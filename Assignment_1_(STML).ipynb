{
  "nbformat": 4,
  "nbformat_minor": 0,
  "metadata": {
    "colab": {
      "provenance": []
    },
    "kernelspec": {
      "name": "python3",
      "display_name": "Python 3"
    },
    "language_info": {
      "name": "python"
    }
  },
  "cells": [
    {
      "cell_type": "code",
      "execution_count": null,
      "metadata": {
        "colab": {
          "base_uri": "https://localhost:8080/"
        },
        "id": "dz-rz8JVGk6B",
        "outputId": "eb4c6db1-b784-42fd-f226-ee20bb0e4760"
      },
      "outputs": [
        {
          "output_type": "stream",
          "name": "stdout",
          "text": [
            "Drive already mounted at /content/drive; to attempt to forcibly remount, call drive.mount(\"/content/drive\", force_remount=True).\n"
          ]
        }
      ],
      "source": [
        "from google.colab import drive\n",
        "drive.mount('/content/drive')"
      ]
    },
    {
      "cell_type": "code",
      "source": [],
      "metadata": {
        "colab": {
          "base_uri": "https://localhost:8080/",
          "height": 211
        },
        "id": "PEYy4DyvJiZ0",
        "outputId": "832ebc9f-fcce-43a0-ef80-e41457531a57",
        "collapsed": true
      },
      "execution_count": null,
      "outputs": [
        {
          "output_type": "error",
          "ename": "NameError",
          "evalue": "name 'data' is not defined",
          "traceback": [
            "\u001b[0;31m---------------------------------------------------------------------------\u001b[0m",
            "\u001b[0;31mNameError\u001b[0m                                 Traceback (most recent call last)",
            "\u001b[0;32m<ipython-input-10-b58f74f6a7dd>\u001b[0m in \u001b[0;36m<cell line: 8>\u001b[0;34m()\u001b[0m\n\u001b[1;32m      6\u001b[0m \u001b[0;31m#data.tail(-1)\u001b[0m\u001b[0;34m\u001b[0m\u001b[0;34m\u001b[0m\u001b[0m\n\u001b[1;32m      7\u001b[0m \u001b[0;31m#print(data)\u001b[0m\u001b[0;34m\u001b[0m\u001b[0;34m\u001b[0m\u001b[0m\n\u001b[0;32m----> 8\u001b[0;31m \u001b[0mp\u001b[0m\u001b[0;34m=\u001b[0m\u001b[0mdata\u001b[0m\u001b[0;34m.\u001b[0m\u001b[0mhead\u001b[0m\u001b[0;34m(\u001b[0m\u001b[0;36m20\u001b[0m\u001b[0;34m)\u001b[0m\u001b[0;34m\u001b[0m\u001b[0;34m\u001b[0m\u001b[0m\n\u001b[0m\u001b[1;32m      9\u001b[0m \u001b[0mprint\u001b[0m\u001b[0;34m(\u001b[0m\u001b[0mdata\u001b[0m\u001b[0;34m.\u001b[0m\u001b[0mhead\u001b[0m\u001b[0;34m(\u001b[0m\u001b[0;36m20\u001b[0m\u001b[0;34m)\u001b[0m\u001b[0;34m)\u001b[0m\u001b[0;34m\u001b[0m\u001b[0;34m\u001b[0m\u001b[0m\n\u001b[1;32m     10\u001b[0m \u001b[0;31m#plt.hist(data,100)\u001b[0m\u001b[0;34m\u001b[0m\u001b[0;34m\u001b[0m\u001b[0m\n",
            "\u001b[0;31mNameError\u001b[0m: name 'data' is not defined"
          ]
        }
      ]
    },
    {
      "cell_type": "code",
      "source": [],
      "metadata": {
        "id": "eFTdqBaVXjB1"
      },
      "execution_count": null,
      "outputs": []
    },
    {
      "cell_type": "markdown",
      "source": [
        "Name:Saisathwika\n",
        "Hallticketnumber:2303A52204\n"
      ],
      "metadata": {
        "id": "5cNgg9dLurbZ"
      }
    },
    {
      "cell_type": "code",
      "source": [],
      "metadata": {
        "id": "bu0mTqrzXkCh"
      },
      "execution_count": null,
      "outputs": []
    },
    {
      "cell_type": "code",
      "source": [
        "import pandas as pd\n",
        "import numpy as np\n",
        "import matplotlib.pyplot as plt\n",
        "import statistics as stat\n",
        "from scipy.stats import skew\n",
        "from scipy.stats import kurtosis\n",
        "from scipy.stats import iqr\n",
        "data=pd.read_csv(\"/content/drive/MyDrive/heart_attack_dataset (3).csv\",usecols=(['Age']))\n",
        "#data.tail(-1)\n",
        "#print(data)\n",
        "data=data['Age']\n",
        "p=data.head(1000)\n",
        "print(data.head(1000))\n",
        "#plt.hist(data,100)\n",
        "print(\"The mean of the data=\",np.mean(data))\n",
        "print(\"The median of the data=\",np.median(data))\n",
        "print(\"The mode of the data=\",stat.mode(data))\n",
        "print(\"The SD of the data=\",np.std(data))\n",
        "print(\"The skew of the data=\",skew(data,axis=0,bias=True))\n",
        "print(\"The kurtosis of the data=\",kurtosis(data,axis=0,bias=True))\n",
        "print(\"The IQR of the data=\",iqr(data))\n",
        "import matplotlib.pyplot as plt\n",
        "plt.hist(data, bins = 10) # replace 10 with the desired number of bins\n",
        "plt.xlabel('Age')\n",
        "plt.ylabel('Frequency')\n",
        "plt.title('Histogram of Age')\n",
        "plt.show()"
      ],
      "metadata": {
        "id": "uY4a2fKQJk_B",
        "colab": {
          "base_uri": "https://localhost:8080/",
          "height": 802
        },
        "outputId": "c40d0bc8-b994-4c47-f8d1-15a0de046996"
      },
      "execution_count": null,
      "outputs": [
        {
          "output_type": "stream",
          "name": "stdout",
          "text": [
            "0      70\n",
            "1      55\n",
            "2      42\n",
            "3      84\n",
            "4      86\n",
            "       ..\n",
            "995    42\n",
            "996    80\n",
            "997    64\n",
            "998    84\n",
            "999    61\n",
            "Name: Age, Length: 1000, dtype: int64\n",
            "The mean of the data= 60.338\n",
            "The median of the data= 60.5\n",
            "The mode of the data= 71\n",
            "The SD of the data= 17.308834622816175\n",
            "The skew of the data= -0.03564231872093601\n",
            "The kurtosis of the data= -1.2485927713831055\n",
            "The IQR of the data= 31.0\n"
          ]
        },
        {
          "output_type": "display_data",
          "data": {
            "text/plain": [
              "<Figure size 640x480 with 1 Axes>"
            ],
            "image/png": "[encoded data removed]"
          },
          "metadata": {}
        }
      ]
    }
  ]
}