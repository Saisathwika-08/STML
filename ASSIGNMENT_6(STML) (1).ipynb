{
  "nbformat": 4,
  "nbformat_minor": 0,
  "metadata": {
    "colab": {
      "provenance": []
    },
    "kernelspec": {
      "name": "python3",
      "display_name": "Python 3"
    },
    "language_info": {
      "name": "python"
    }
  },
  "cells": [
    {
      "cell_type": "code",
      "execution_count": null,
      "metadata": {
        "colab": {
          "base_uri": "https://localhost:8080/"
        },
        "id": "YGPS0-3lpzUs",
        "outputId": "7d524a52-2a03-44df-970a-3c6091a7953d"
      },
      "outputs": [
        {
          "output_type": "stream",
          "name": "stdout",
          "text": [
            "Model Accuracy: 100.00%\n",
            "Classification Report:\n",
            "               precision    recall  f1-score   support\n",
            "\n",
            "           0       1.00      1.00      1.00         1\n",
            "           1       1.00      1.00      1.00         1\n",
            "\n",
            "    accuracy                           1.00         2\n",
            "   macro avg       1.00      1.00      1.00         2\n",
            "weighted avg       1.00      1.00      1.00         2\n",
            "\n"
          ]
        }
      ],
      "source": [
        "import pandas as pd\n",
        "from sklearn.model_selection import train_test_split\n",
        "from sklearn.ensemble import RandomForestClassifier\n",
        "from sklearn.metrics import accuracy_score, classification_report\n",
        "data = {\n",
        "'Study Hours per Week': [9, 15, 2, 12, 14, 1, 3, 11, 6, 8],\n",
        "'Class Attendance (%)': [90, 95, 30, 85, 75, 92, 50, 88, 65, 80],\n",
        "'Previous Exam Score (%)': [70, 90, 50, 88, 63, 93, 55, 80, 60, 85],\n",
        "'Participation in Group Study': [1, 0, 0, 1, 0, 1, 1, 1, 0, 1],\n",
        "'Submission of Assignments (%)': [100, 95, 40, 100, 95, 100, 0, 75, 0, 90],\n",
        "'Pass/Fail': [1, 1, 0, 1, 0, 1, 0, 1, 0, 1]\n",
        "}\n",
        "df = pd.DataFrame(data)\n",
        "X = df.drop('Pass/Fail', axis=1)\n",
        "y = df['Pass/Fail']\n",
        "X_train, X_test, y_train, y_test = train_test_split(X, y, test_size=0.2, random_state=42)\n",
        "model = RandomForestClassifier(random_state=42)\n",
        "model.fit(X_train, y_train)\n",
        "y_pred = model.predict(X_test)\n",
        "accuracy = accuracy_score(y_test, y_pred)\n",
        "print(f\"Model Accuracy: {accuracy * 100:.2f}%\")\n",
        "print(\"Classification Report:\\n\", classification_report(y_test, y_pred))"
      ]
    },
    {
      "cell_type": "code",
      "source": [
        "import pandas as pd\n",
        "from sklearn.model_selection import train_test_split\n",
        "from sklearn.preprocessing import StandardScaler, OneHotEncoder\n",
        "from sklearn.compose import ColumnTransformer\n",
        "from sklearn.linear_model import Perceptron\n",
        "from sklearn.metrics import accuracy_score\n",
        "df = pd.read_csv('/content/archive (12).zip')\n",
        "print(df.isnull().sum())\n",
        "X = df.drop(columns=['class'])\n",
        "y = df['class']\n",
        "X_train, X_test, y_train, y_test = train_test_split(X, y, test_size=0.3, random_state=42)\n",
        "numerical_features = X_train.select_dtypes(include=['int64', 'float64']).columns\n",
        "categorical_features = X_train.select_dtypes(include=['object']).columns\n",
        "numeric_transformer = StandardScaler()\n",
        "categorical_transformer = OneHotEncoder(handle_unknown='ignore')\n",
        "preprocessor = ColumnTransformer(\n",
        "transformers=[\n",
        "('num', numeric_transformer, numerical_features),('cat', categorical_transformer, categorical_features)\n",
        "])\n",
        "X_train_scaled = preprocessor.fit_transform(X_train)\n",
        "X_test_scaled = preprocessor.transform(X_test)\n",
        "perceptron = Perceptron(max_iter=1000, tol=1e-3, random_state=42)\n",
        "perceptron.fit(X_train_scaled, y_train)\n",
        "y_pred = perceptron.predict(X_test_scaled)\n",
        "accuracy = accuracy_score(y_test, y_pred)\n",
        "print(f'Perceptron Model Accuracy: {accuracy * 100:.2f}%')"
      ],
      "metadata": {
        "colab": {
          "base_uri": "https://localhost:8080/"
        },
        "id": "_XFgNXJRqS6p",
        "outputId": "a5634b6e-f978-45a9-b32a-3fafb0bb1afd"
      },
      "execution_count": null,
      "outputs": [
        {
          "output_type": "stream",
          "name": "stdout",
          "text": [
            "Age                   0\n",
            "Gender                0\n",
            "Polyuria              0\n",
            "Polydipsia            0\n",
            "sudden weight loss    0\n",
            "weakness              0\n",
            "Polyphagia            0\n",
            "Genital thrush        0\n",
            "visual blurring       0\n",
            "Itching               0\n",
            "Irritability          0\n",
            "delayed healing       0\n",
            "partial paresis       0\n",
            "muscle stiffness      0\n",
            "Alopecia              0\n",
            "Obesity               0\n",
            "class                 0\n",
            "dtype: int64\n",
            "Perceptron Model Accuracy: 88.46%\n"
          ]
        }
      ]
    }
  ]
}